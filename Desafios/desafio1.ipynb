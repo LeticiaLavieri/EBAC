{
 "cells": [
  {
   "cell_type": "markdown",
   "metadata": {},
   "source": [
    "#### Desafio 1:\n",
    "\n",
    "Faça um programa que calcule o valor total investido por um colecionador em sua coleção de CDs e o valor médio gasto em cada um deles. <br>\n",
    "O usuário deverá informar a quantidade de CDs e o valor para cada um.<br>\n",
    "Lembre-se de que você já tem a habilidade de desenvolver variáveis, estruturar dados, criar condições, repetições e funções. "
   ]
  },
  {
   "cell_type": "markdown",
   "metadata": {},
   "source": [
    " Quantidade de Cds: 3<br><br>\n",
    " CD_1: 9,00 R$<br>\n",
    " CD_2: 18,00 R$<br>\n",
    " CD_3: 30,00 R$<br>"
   ]
  },
  {
   "cell_type": "code",
   "execution_count": 7,
   "metadata": {},
   "outputs": [
    {
     "name": "stdout",
     "output_type": "stream",
     "text": [
      "Preço total: R$57.0\n",
      "Média de custo por CD: R$19.0\n"
     ]
    }
   ],
   "source": [
    "quantidade_cds = int(input('Digite a quantidade de CDs: '))\n",
    "\n",
    "valor_total = 0\n",
    "\n",
    "for i in range(quantidade_cds):\n",
    "    valor_total += float(input(f'Digite o preço do CD {i+1}: '))\n",
    "    valor_medio = valor_total / quantidade_cds \n",
    "\n",
    "print(f'Preço total: R${valor_total}')\n",
    "print(f'Média de custo por CD: R${valor_medio}')\n"
   ]
  },
  {
   "cell_type": "code",
   "execution_count": 5,
   "metadata": {},
   "outputs": [
    {
     "name": "stdout",
     "output_type": "stream",
     "text": [
      "Preço total: R$57.00\n",
      "Média de custo por CD: R$19.00\n"
     ]
    }
   ],
   "source": [
    "cds = int(input(\"Digite a quantidade de CDs: \"))\n",
    "\n",
    "preco = 0\n",
    "\n",
    "for i in range(cds):\n",
    "    preco += float(input(f\"Digite o preço do CD {i+1}: \"))\n",
    "\n",
    "print(f\"Preço total: R${preco:.2f}\\nMédia de custo por CD: R${preco/cds:.2f}\")"
   ]
  }
 ],
 "metadata": {
  "kernelspec": {
   "display_name": "Python 3",
   "language": "python",
   "name": "python3"
  },
  "language_info": {
   "codemirror_mode": {
    "name": "ipython",
    "version": 3
   },
   "file_extension": ".py",
   "mimetype": "text/x-python",
   "name": "python",
   "nbconvert_exporter": "python",
   "pygments_lexer": "ipython3",
   "version": "3.12.3"
  }
 },
 "nbformat": 4,
 "nbformat_minor": 2
}
