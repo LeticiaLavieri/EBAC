{
 "cells": [
  {
   "cell_type": "markdown",
   "metadata": {},
   "source": [
    "<img src=\"https://raw.githubusercontent.com/andre-marcos-perez/ebac-course-utils/main/media/logo/newebac_logo_black_half.png\" alt=\"ebac-logo\">\n",
    "\n",
    "---\n",
    "\n",
    "### **Módulo 02** | Python: Estruturas de Dados\n",
    "---\n",
    "\n",
    "### **Tópicos**\n",
    "\n",
    "<ol type=\"1\">\n",
    "  <li>Listas;</li>\n",
    "  <li>Conjuntos;</li>\n",
    "  <li>Dicionários.</li>\n",
    "</ol>"
   ]
  },
  {
   "cell_type": "markdown",
   "metadata": {},
   "source": [
    "#### Lição 1:\n",
    "\n",
    "- Crie uma lista chamada filmes com o nome dos 10 primeiros filmes mais bem avaliados no site no IMDB\n",
    "- Utilize os métodos insert e pop para trocar a posição do primeiro e do segundo filme da lista (simulando a movimentação do ranking)."
   ]
  },
  {
   "cell_type": "code",
   "execution_count": 2,
   "metadata": {},
   "outputs": [
    {
     "name": "stdout",
     "output_type": "stream",
     "text": [
      "['The Shawshank Redemption', 'The Godfather', 'The Dark Knight', 'The Godfather Part II', '12 Angry Men', 'Schindlers List', 'The Lord of the Rings: The Return of the King', 'Pulp Fiction', 'The Lord of the Rings: The Fellowship of the Ring', ' The Good the Bad and the Ugly']\n"
     ]
    }
   ],
   "source": [
    "# Criação da lista:\n",
    "\n",
    "filmes = ['The Shawshank Redemption', 'The Godfather', 'The Dark Knight', 'The Godfather Part II', '12 Angry Men', 'Schindlers List', 'The Lord of the Rings: The Return of the King', \n",
    "          'Pulp Fiction', 'The Lord of the Rings: The Fellowship of the Ring',' The Good the Bad and the Ugly'\n",
    "]\n",
    "\n",
    "print(filmes)"
   ]
  },
  {
   "cell_type": "code",
   "execution_count": 3,
   "metadata": {},
   "outputs": [
    {
     "name": "stdout",
     "output_type": "stream",
     "text": [
      "['The Godfather', 'The Shawshank Redemption', 'The Dark Knight', 'The Godfather Part II', '12 Angry Men', 'Schindlers List', 'The Lord of the Rings: The Return of the King', 'Pulp Fiction', 'The Lord of the Rings: The Fellowship of the Ring', ' The Good the Bad and the Ugly']\n"
     ]
    }
   ],
   "source": [
    "filmes.insert(0, 'The Godfather')\n",
    "filmes.pop(2)\n",
    "print(filmes)"
   ]
  },
  {
   "cell_type": "markdown",
   "metadata": {},
   "source": [
    "#### Lição 2:\n",
    "\n",
    "Utilize a conversão para conjunto e, em seguida, novamente para lista para remover os itens duplicados. Armazene o resultado de volta na variável filmes."
   ]
  },
  {
   "cell_type": "code",
   "execution_count": 4,
   "metadata": {},
   "outputs": [],
   "source": [
    "filmes_duplicados = [\n",
    "    'The Shawshank Redemption',\n",
    "    'The Godfather',\n",
    "    'The Dark Knight',\n",
    "    'The Godfather Part II',\n",
    "    'The Godfather',\n",
    "    '12 Angry Men',\n",
    "    'Schindler\\'s List',\n",
    "    'The Lord of the Rings: The Return of the King',\n",
    "    'Pulp Fiction',\n",
    "    'The Shawshank Redemption',\n",
    "    'The Lord of the Rings: The Fellowship of the Ring',\n",
    "    'The Good, the Bad and the Ugly',\n",
    "    'Pulp Fiction'\n",
    "]"
   ]
  },
  {
   "cell_type": "code",
   "execution_count": 5,
   "metadata": {},
   "outputs": [
    {
     "name": "stdout",
     "output_type": "stream",
     "text": [
      "['The Dark Knight', 'The Shawshank Redemption', 'The Lord of the Rings: The Return of the King', 'The Godfather', 'The Godfather Part II', 'Pulp Fiction', 'The Lord of the Rings: The Fellowship of the Ring', 'The Good, the Bad and the Ugly', '12 Angry Men', \"Schindler's List\"]\n"
     ]
    }
   ],
   "source": [
    "filmes_duplicados = list(set(filmes_duplicados))\n",
    "print(filmes_duplicados)"
   ]
  },
  {
   "cell_type": "markdown",
   "metadata": {},
   "source": [
    "#### Lição 3:\n",
    "\n",
    "- Criar novamente uma lista chamada filmes com o nome dos 10 primeiros filmes mais bem avaliados no site no IMDB. \n",
    "- Adicione mais informações a essa estrutura de dados com o ano e a sinopse de cada filme.\n",
    "- Os elementos da lista filmes devem ser dicionários"
   ]
  },
  {
   "cell_type": "code",
   "execution_count": 6,
   "metadata": {},
   "outputs": [
    {
     "name": "stdout",
     "output_type": "stream",
     "text": [
      "[{'nome': 'The Shawshank Redemption', 'ano': '1994', 'sinopse': 'Over the course of several years, two convicts form a friendship, seeking consolation and, eventually, redemption through basic compassion'}, {'nome': 'The Godfather', 'ano': '1972', 'sinopse': 'The aging patriarch of an organized crime dynasty transfers control of his clandestine empire to his reluctant son.'}, {'nome': 'The Dark Knight', 'ano': '2008', 'sinopse': 'When the menace known as the Joker wreaks havoc and chaos on the people of Gotham, Batman must accept one of the greatest psychological and physical tests of his ability to fight injustice.'}, {'nome': 'The Godfather Part II', 'ano': '1974', 'sinopse': 'The early life and career of Vito Corleone in 1920s New York City is portrayed, while his son, Michael, expands and tightens his grip on the family crime syndicate.'}, {'nome': '12 Angry Men', 'ano': '1957', 'sinopse': 'The jury in a New York City murder trial is frustrated by a single member whose skeptical caution forces them to more carefully consider the evidence before jumping to a hasty verdict.'}, {'nome': 'Schindlers List', 'ano': '1993', 'sinopse': 'In German-occupied Poland during World War II, industrialist Oskar Schindler gradually becomes concerned for his Jewish workforce after witnessing their persecution by the Nazis.'}, {'nome': 'The Lord of the Rings: The Return of the King', 'ano': '2003', 'sinopse': 'Gandalf and Aragorn lead the World of Men against Saurons army to draw his gaze from Frodo and Sam as they approach Mount Doom with the One Ring.'}, {'nome': 'Pulp Fiction', 'ano': '1994', 'sinopse': 'The lives of two mob hitmen, a boxer, a gangster and his wife, and a pair of diner bandits intertwine in four tales of violence and redemption.'}, {'nome': 'The Lord of the Rings: The Fellowship of the Ring', 'ano': '2001', 'sinopse': 'A meek Hobbit from the Shire and eight companions set out on a journey to destroy the powerful One Ring and save Middle-earth from the Dark Lord Sauron.'}, {'nome': 'The Good the Bad and the Ugly', 'ano': '1966', 'sinopse': 'A bounty hunting scam joins two men in an uneasy alliance against a third in a race to find a fortune in gold buried in a remote cemetery.'}]\n"
     ]
    }
   ],
   "source": [
    "filmes = []\n",
    "filme = {'nome':'The Shawshank Redemption', 'ano':'1994', 'sinopse':'Over the course of several years, two convicts form a friendship, seeking consolation and, eventually, redemption through basic compassion'}\n",
    "filmes.append(filme)\n",
    "filme = {'nome':'The Godfather', 'ano':'1972', 'sinopse':'The aging patriarch of an organized crime dynasty transfers control of his clandestine empire to his reluctant son.'}\n",
    "filmes.append(filme)\n",
    "filme = {'nome':'The Dark Knight', 'ano':'2008', 'sinopse':'When the menace known as the Joker wreaks havoc and chaos on the people of Gotham, Batman must accept one of the greatest psychological and physical tests of his ability to fight injustice.'}\n",
    "filmes.append(filme)\n",
    "filme = {'nome':'The Godfather Part II', 'ano':'1974', 'sinopse':'The early life and career of Vito Corleone in 1920s New York City is portrayed, while his son, Michael, expands and tightens his grip on the family crime syndicate.'}\n",
    "filmes.append(filme)\n",
    "filme = {'nome':'12 Angry Men', 'ano':'1957', 'sinopse':'The jury in a New York City murder trial is frustrated by a single member whose skeptical caution forces them to more carefully consider the evidence before jumping to a hasty verdict.'}\n",
    "filmes.append(filme)\n",
    "filme = {'nome':'Schindlers List', 'ano':'1993', 'sinopse':'In German-occupied Poland during World War II, industrialist Oskar Schindler gradually becomes concerned for his Jewish workforce after witnessing their persecution by the Nazis.'}\n",
    "filmes.append(filme)\n",
    "filme = {'nome':'The Lord of the Rings: The Return of the King', 'ano':'2003', 'sinopse':'Gandalf and Aragorn lead the World of Men against Saurons army to draw his gaze from Frodo and Sam as they approach Mount Doom with the One Ring.'}\n",
    "filmes.append(filme)\n",
    "filme = {'nome':'Pulp Fiction', 'ano':'1994', 'sinopse':'The lives of two mob hitmen, a boxer, a gangster and his wife, and a pair of diner bandits intertwine in four tales of violence and redemption.'}\n",
    "filmes.append(filme)\n",
    "filme = {'nome':'The Lord of the Rings: The Fellowship of the Ring', 'ano':'2001', 'sinopse':'A meek Hobbit from the Shire and eight companions set out on a journey to destroy the powerful One Ring and save Middle-earth from the Dark Lord Sauron.'}\n",
    "filmes.append(filme)\n",
    "filme = {'nome':'The Good the Bad and the Ugly', 'ano':'1966', 'sinopse':'A bounty hunting scam joins two men in an uneasy alliance against a third in a race to find a fortune in gold buried in a remote cemetery.'}\n",
    "filmes.append(filme)\n",
    "print(filmes)"
   ]
  },
  {
   "cell_type": "code",
   "execution_count": 9,
   "metadata": {},
   "outputs": [
    {
     "name": "stdout",
     "output_type": "stream",
     "text": [
      "[{'1': {'nome': 'O Poderoso Chefão', 'ano': '1972', 'sinopse': 'O Poderoso Chefão é um violento e arrepiante retrato da luta da família siciliana para permanecer no poder, numa corrupta, enganosa e traiçoeira América pós-guerra. Coppola inicia sua lendária trilogia, equilibrando magistralmente a história da vida familiar dos Corleone e os sujos negócios criminais em que estão envolvidos.'}, '2': {'nome': 'Um Sonho de Liberdade', 'ano': '1994', 'sinopse': 'Lançado em 1994, o filme teve direção do cineasta Frank Darabont e é considerado um clássico. A trama é contada por Ellis Boyd “Red” Redding (Morgam Freeman) e exibe a vida de Andy Dufresne (Tim Robbins), um jovem bancário que é preso em 1946 acusado de matar a esposa e seu amante.'}, '3': {'nome': 'Batman: O Cavaleiro das Trevas', 'ano': '2008', 'sinopse': 'Sinopse. Após dois anos desde o surgimento do Batman (Christian Bale), os criminosos de Gotham City têm muito o que temer. Com a ajuda do tenente James Gordon (Gary Oldman) e do promotor público Harvey Dent (Aaron Eckhart), Batman luta contra o crime organizado. Acuados com o combate, os chefes do crime aceitam a proposta feita pelo Coringa'}, '4': {'nome': 'O Poderoso Chefão II', 'ano': '1974', 'sinopse': 'Início do século XX. Após a máfia local matar sua família, o jovem Vito (Robert De Niro) foge da sua cidade na Sicília e vai para a América. Já adulto em Little Italy, Vito luta para ganhar a vida (legal ou ilegalmente) e manter sua esposa e filhos. Ele mata Black Hand Fanucci (Gastone Moschin), que exigia dos comerciantes uma parte dos seus ganhos. Com a morte de Fanucci, o poderio de Vito cresce muito, mas sua família é o que mais importa para ele. Um legado de família que vai até os enormes negócios que nos anos 50 são controlados pelo caçula, Michael Corleone (Al Pacino). Agora baseado em Lago Tahoe, Michael planeja fazer incursões em Las Vegas e Havana instalando negócios ligados ao lazer, mas descobre que aliados como Hyman Roth (Lee Strasberg) estão tentando matá-lo. Crescentemente paranoico, Michael também descobre que sua ambição acabou com seu casamento com Kay (Diane Keaton) e até mesmo seu irmão Fredo (John Cazale) o traiu. Escapando de uma acusação federal, Michael concentra sua atenção para lidar com os seus inimigos.'}, '5': {'nome': '12 Homens e uma Sentença', 'ano': '1957', 'sinopse': 'O filme gira em torno de um julgamento, onde um jovem porto-riquenho é acusado de ter matado o próprio pai. Os 12 jurados se reunem para decidir a sentença, com a orientação de que o réu deve ser considerado inocente até que se prove o contrário. Onze deles, cada um com sua razão, votam pela condenação.'}, '6': {'nome': 'A Lista de Schindler', 'ano': '1993', 'sinopse': 'O filme segue Oskar Schindler, um empresário alemão dos Sudetos que, junto com sua esposa Emilie Schindler, salvou mais de mil refugiados judeus holandeses do Holocausto, principalmente poloneses, empregando-os em suas fábricas durante a Segunda Guerra Mundial. É estrelado por Liam Neeson como Schindler, Ben Kingsley como o contador judeu de Schindler Itzhak Stern e Ralph Fiennes como o oficial da SS Amon Göth'}, '7': {'nome': 'O Senhor dos Anéis: O Retorno do Rei', 'ano': '2003', 'sinopse': 'Sauron planeja um grande ataque a Minas Tirith, capital de Gondor, o que faz com que Gandalf (Ian McKellen) e Pippin (Billy Boyd) partam para o local na intenção de ajudar a resistência. Um exército é reunido por Theoden (Bernard Hill) em Rohan, em mais uma tentativa de deter as forças de Sauron. Enquanto isso Frodo (Elijah Wood), Sam (Sean Astin) e Gollum (Andy Serkins) seguem sua viagem rumo à Montanha da Perdição, para destruir o Um Anel'}, '8': {'nome': 'Pulp Fiction: Tempo de Violência', 'ano': '1994', 'sinopse': 'Sinopse Vincent Vega (John Travolta) e Jules Winnfield (Samuel L. Jackson) são dois assassinos profissionais trabalham fazendo cobranças para Marsellus Wallace (Ving Rhames), um poderosos gângster'}, '9': {'nome': ' O Senhor dos Anéis: A Sociedade do Anel', 'ano': '2001', 'sinopse': 'Numa terra fantástica e única, chamada Terra-Média, um hobbit (seres de estatura entre 80 cm e 1,20 m, com pés peludos e bochechas um pouco avermelhadas) recebe de presente de seu tio o Um Anel, um anel mágico e maligno que precisa ser destruído antes que caia nas mãos do mal. Para isso o hobbit Frodo (Elijah Woods) terá um caminho árduo pela frente, onde encontrará perigo, medo e personagens bizarros. Ao seu lado para o cumprimento desta jornada aos poucos ele poderá contar com outros hobbits, um elfo, um anão, dois humanos e um mago, totalizando 9 pessoas que formarão a Sociedade do Anel.'}, '10': {'nome': 'Três Homens em Conflito', 'ano': '1966', 'sinopse': 'Sinopse Em meio à Guerra Civil Americana, três homens fazem de tudo para colocar as mãos em 200 mil dólares roubados.'}}]\n"
     ]
    }
   ],
   "source": [
    "filmes = [\n",
    "    {'1':  {'nome': 'O Poderoso Chefão', 'ano': '1972', 'sinopse': 'O Poderoso Chefão é um violento e arrepiante retrato da luta da família siciliana para permanecer no poder, numa corrupta, enganosa e traiçoeira América pós-guerra. Coppola inicia sua lendária trilogia, equilibrando magistralmente a história da vida familiar dos Corleone e os sujos negócios criminais em que estão envolvidos.'},\n",
    "     '2':  {'nome': 'Um Sonho de Liberdade', 'ano': '1994', 'sinopse': 'Lançado em 1994, o filme teve direção do cineasta Frank Darabont e é considerado um clássico. A trama é contada por Ellis Boyd “Red” Redding (Morgam Freeman) e exibe a vida de Andy Dufresne (Tim Robbins), um jovem bancário que é preso em 1946 acusado de matar a esposa e seu amante.'},\n",
    "     '3':  {'nome': 'Batman: O Cavaleiro das Trevas', 'ano': '2008', 'sinopse': 'Sinopse. Após dois anos desde o surgimento do Batman (Christian Bale), os criminosos de Gotham City têm muito o que temer. Com a ajuda do tenente James Gordon (Gary Oldman) e do promotor público Harvey Dent (Aaron Eckhart), Batman luta contra o crime organizado. Acuados com o combate, os chefes do crime aceitam a proposta feita pelo Coringa'},\n",
    "     '4':  {'nome': 'O Poderoso Chefão II', 'ano': '1974', 'sinopse': 'Início do século XX. Após a máfia local matar sua família, o jovem Vito (Robert De Niro) foge da sua cidade na Sicília e vai para a América. Já adulto em Little Italy, Vito luta para ganhar a vida (legal ou ilegalmente) e manter sua esposa e filhos. Ele mata Black Hand Fanucci (Gastone Moschin), que exigia dos comerciantes uma parte dos seus ganhos. Com a morte de Fanucci, o poderio de Vito cresce muito, mas sua família é o que mais importa para ele. Um legado de família que vai até os enormes negócios que nos anos 50 são controlados pelo caçula, Michael Corleone (Al Pacino). Agora baseado em Lago Tahoe, Michael planeja fazer incursões em Las Vegas e Havana instalando negócios ligados ao lazer, mas descobre que aliados como Hyman Roth (Lee Strasberg) estão tentando matá-lo. Crescentemente paranoico, Michael também descobre que sua ambição acabou com seu casamento com Kay (Diane Keaton) e até mesmo seu irmão Fredo (John Cazale) o traiu. Escapando de uma acusação federal, Michael concentra sua atenção para lidar com os seus inimigos.'},\n",
    "     '5':  {'nome': '12 Homens e uma Sentença', 'ano': '1957', 'sinopse': 'O filme gira em torno de um julgamento, onde um jovem porto-riquenho é acusado de ter matado o próprio pai. Os 12 jurados se reunem para decidir a sentença, com a orientação de que o réu deve ser considerado inocente até que se prove o contrário. Onze deles, cada um com sua razão, votam pela condenação.'},\n",
    "     '6':  {'nome': 'A Lista de Schindler', 'ano': '1993', 'sinopse': 'O filme segue Oskar Schindler, um empresário alemão dos Sudetos que, junto com sua esposa Emilie Schindler, salvou mais de mil refugiados judeus holandeses do Holocausto, principalmente poloneses, empregando-os em suas fábricas durante a Segunda Guerra Mundial. É estrelado por Liam Neeson como Schindler, Ben Kingsley como o contador judeu de Schindler Itzhak Stern e Ralph Fiennes como o oficial da SS Amon Göth'},\n",
    "     '7':  {'nome': 'O Senhor dos Anéis: O Retorno do Rei', 'ano': '2003', 'sinopse': 'Sauron planeja um grande ataque a Minas Tirith, capital de Gondor, o que faz com que Gandalf (Ian McKellen) e Pippin (Billy Boyd) partam para o local na intenção de ajudar a resistência. Um exército é reunido por Theoden (Bernard Hill) em Rohan, em mais uma tentativa de deter as forças de Sauron. Enquanto isso Frodo (Elijah Wood), Sam (Sean Astin) e Gollum (Andy Serkins) seguem sua viagem rumo à Montanha da Perdição, para destruir o Um Anel'},\n",
    "     '8':  {'nome': 'Pulp Fiction: Tempo de Violência', 'ano': '1994', 'sinopse': 'Sinopse Vincent Vega (John Travolta) e Jules Winnfield (Samuel L. Jackson) são dois assassinos profissionais trabalham fazendo cobranças para Marsellus Wallace (Ving Rhames), um poderosos gângster'},\n",
    "     '9':  {'nome': ' O Senhor dos Anéis: A Sociedade do Anel', 'ano': '2001', 'sinopse': 'Numa terra fantástica e única, chamada Terra-Média, um hobbit (seres de estatura entre 80 cm e 1,20 m, com pés peludos e bochechas um pouco avermelhadas) recebe de presente de seu tio o Um Anel, um anel mágico e maligno que precisa ser destruído antes que caia nas mãos do mal. Para isso o hobbit Frodo (Elijah Woods) terá um caminho árduo pela frente, onde encontrará perigo, medo e personagens bizarros. Ao seu lado para o cumprimento desta jornada aos poucos ele poderá contar com outros hobbits, um elfo, um anão, dois humanos e um mago, totalizando 9 pessoas que formarão a Sociedade do Anel.'},\n",
    "     '10': {'nome': 'Três Homens em Conflito', 'ano': '1966', 'sinopse': 'Sinopse Em meio à Guerra Civil Americana, três homens fazem de tudo para colocar as mãos em 200 mil dólares roubados.'}\n",
    "     }\n",
    "]\n",
    "print(filmes)"
   ]
  }
 ],
 "metadata": {
  "kernelspec": {
   "display_name": "Python 3",
   "language": "python",
   "name": "python3"
  },
  "language_info": {
   "codemirror_mode": {
    "name": "ipython",
    "version": 3
   },
   "file_extension": ".py",
   "mimetype": "text/x-python",
   "name": "python",
   "nbconvert_exporter": "python",
   "pygments_lexer": "ipython3",
   "version": "3.12.3"
  }
 },
 "nbformat": 4,
 "nbformat_minor": 2
}
