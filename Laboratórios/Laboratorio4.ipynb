{
 "cells": [
  {
   "cell_type": "code",
   "execution_count": null,
   "metadata": {},
   "outputs": [],
   "source": []
  },
  {
   "cell_type": "markdown",
   "metadata": {},
   "source": [
    "<img src=\"https://raw.githubusercontent.com/andre-marcos-perez/ebac-course-utils/main/media/logo/newebac_logo_black_half.png\" alt=\"ebac-logo\">\n",
    "\n",
    "---\n",
    "\n",
    "### **Módulo 04** | Python: Arquivos & Funções\n",
    "---\n",
    "\n",
    "### **Tópicos**\n",
    "\n",
    "<ol type=\"1\">\n",
    "  <li>Leitura;</li>\n",
    "  <li>Escrita;</li>\n",
    "  <li>Funções;</li>\n",
    "  <li>Escopo.</li>\n",
    "</ol>"
   ]
  },
  {
   "cell_type": "markdown",
   "metadata": {},
   "source": [
    "#### Lição 1:\n",
    "\n",
    "- Extraia os valores da coluna \"valor_venda\" e armazena em uma lista"
   ]
  },
  {
   "cell_type": "markdown",
   "metadata": {},
   "source": [
    "Carros.csv\n",
    "\n",
    "id,valor_venda,valor_manutencao,portas,pessoas,porta_malas<br>\n",
    "1,vhigh,med,2,2,small<br>\n",
    "2,med,vhigh,2,2,small<br>\n",
    "3,low,vhigh,2,2,small<br>\n",
    "4,low,high,2,2,small<br>\n",
    "5,low,high,2,2,small<br>\n",
    "6,low,high,4,4,big<br>\n",
    "7,low,high,4,4,big<br>\n",
    "8,low,med,2,2,small<br>\n",
    "9,low,med,2,2,small<br>\n",
    "10,low,med,2,2,small<br>\n",
    "11,low,med,4,4,big<br>\n",
    "12,low,low,2,2,small<br>\n",
    "13,low,low,4,4,small<br>\n",
    "14,low,low,4,4,med\n"
   ]
  },
  {
   "cell_type": "code",
   "execution_count": 1,
   "metadata": {},
   "outputs": [
    {
     "name": "stdout",
     "output_type": "stream",
     "text": [
      "['vhigh', 'med', 'low', 'low', 'low', 'low', 'low', 'low', 'low', 'low', 'low', 'low', 'low', 'low']\n"
     ]
    }
   ],
   "source": [
    "valor_venda = []\n",
    "\n",
    "with open(file='carros.csv', mode='r', encoding='utf8') as arquivo:\n",
    "\tlinha = arquivo.readline ()\n",
    "\tlinha = arquivo.readline ()\n",
    "\twhile linha:\n",
    "\t\tlista_carros = linha.split(sep=',')\n",
    "\t\tvalor_de_venda = lista_carros[1]\n",
    "\t\tvalor_venda.append(valor_de_venda)\n",
    "\t\tlinha = arquivo.readline ()\n",
    "\n",
    "\tprint(valor_venda)"
   ]
  },
  {
   "cell_type": "markdown",
   "metadata": {},
   "source": [
    "#### Lição 2:\n",
    "\n",
    "- Crie uma função para extração dos valores de valor_manutenção e que retorne uma lista com os valores.\n",
    "- A função deve ter como parâmetros nome_arquivo e indice_coluna.\n"
   ]
  },
  {
   "cell_type": "code",
   "execution_count": 8,
   "metadata": {},
   "outputs": [],
   "source": [
    "def extrai_coluna_csv(nome_arquivo: str, indice_coluna: int):\n",
    "\n",
    "    with open(file='carros.csv', mode='r', encoding='utf8') as arquivo:\n",
    "        coluna = []\n",
    "        linha = arquivo.readline ()\n",
    "        linha = arquivo.readline ()\n",
    "        while linha:\n",
    "            lista_carros = linha.split(sep=',')\n",
    "            coluna.append(lista_carros[indice_coluna])\n",
    "            linha = arquivo.readline ()\n",
    "    return coluna\n"
   ]
  },
  {
   "cell_type": "code",
   "execution_count": 9,
   "metadata": {},
   "outputs": [
    {
     "name": "stdout",
     "output_type": "stream",
     "text": [
      "['med', 'vhigh', 'vhigh', 'high', 'high', 'high', 'high', 'med', 'med', 'med', 'med', 'low', 'low', 'low']\n"
     ]
    }
   ],
   "source": [
    "valor_manutencao = extrai_coluna_csv(nome_arquivo='carros.csv', indice_coluna=2)\n",
    "print(valor_manutencao)"
   ]
  },
  {
   "cell_type": "markdown",
   "metadata": {},
   "source": [
    "#### Lição 3:\n",
    "\n",
    "- Crie uma função para extração dos valores de valor_manutenção e que retorne uma lista com os valores.\n",
    "- A função deve ter como parâmetros nome_arquivo, indice_coluna, tipo_dado.\n",
    "- O parâmetro tipo_dado deve aceitar como argumento os valores \"str\" ou \"int\"."
   ]
  },
  {
   "cell_type": "code",
   "execution_count": 11,
   "metadata": {},
   "outputs": [
    {
     "name": "stdout",
     "output_type": "stream",
     "text": [
      "['med', 'vhigh', 'vhigh', 'high', 'high', 'high', 'high', 'med', 'med', 'med', 'med', 'low', 'low', 'low']\n"
     ]
    }
   ],
   "source": [
    "def extrai_coluna_csv(nome_arquivo: str, indice_coluna: int, tipo_dado: str):\n",
    "\tcoluna = []\n",
    "\t\n",
    "\twith open(file= f'{nome_arquivo}', mode='r', encoding='utf8') as fp:\n",
    "\t\tlinha = fp.readline()\n",
    "\t\tlinha = fp.readline()\n",
    "\t\twhile linha:\n",
    "\t\t\tquebra_elementos = linha.split(sep=',')\n",
    "\t\t\tcolunas =  quebra_elementos[indice_coluna] \n",
    "\t\t\tif tipo_dado != 'str':\n",
    "\t\t\t\tcolunas = int(colunas)\n",
    "\t\t\telse:\n",
    "\t\t\t\tcolunas = str(colunas)\n",
    "\t\t\tcoluna.append(colunas)\n",
    "\t\t\tlinha = fp.readline()\n",
    "\n",
    "\treturn coluna\n",
    "\n",
    "valor_manutencao = extrai_coluna_csv(nome_arquivo='carros.csv', indice_coluna=2, tipo_dado='str')\n",
    "print(valor_manutencao)"
   ]
  },
  {
   "cell_type": "markdown",
   "metadata": {},
   "source": [
    "#### Lição 4:\n",
    "\n",
    "- Complete a função para extrair as palavras de uma linha do arquivo txt em uma lista.\n",
    "- Siga os passos apresentados pelas linhas de comentários no editor de código."
   ]
  },
  {
   "cell_type": "markdown",
   "metadata": {},
   "source": [
    "Roda Viva<br>\n",
    "Chico Buarque<br>\n",
    "<br>\n",
    "Tem dias que a gente se sente<br>\n",
    "Como quem partiu ou morreu<br>\n",
    "A gente estancou de repente<br>\n",
    "Ou foi o mundo então que cresceu<br>\n",
    "A gente quer ter voz ativa<br>\n",
    "No nosso destino mandar<br>\n",
    "Mas eis que chega a roda viva<br>\n",
    "E carrega o destino pra lá<br>\n",
    "<br>\n",
    "Roda mundo, roda-gigante<br>\n",
    "Roda moinho, roda pião<br>\n",
    "<br>\n",
    "O tempo rodou num instante<br>\n",
    "Nas voltas do meu coração<br>\n",
    "A gente vai contra a corrente<br>\n",
    "Até não poder resistir<br>\n",
    "Na volta do barco é que sente<br>\n",
    "O quanto deixou de cumprir<br>\n",
    "Faz tempo que a gente cultiva<br>\n",
    "A mais linda roseira que há<br>\n",
    "Mas eis que chega a roda viva<br>\n",
    "E carrega a roseira pra lá<br>\n",
    "<br>\n",
    "Roda mundo, roda-gigante<br>\n",
    "Roda moinho, roda pião<br>\n",
    "\n"
   ]
  },
  {
   "cell_type": "code",
   "execution_count": 2,
   "metadata": {},
   "outputs": [
    {
     "name": "stdout",
     "output_type": "stream",
     "text": [
      "['Mas', 'eis', 'que', 'chega', 'a', 'roda', 'viva\\n']\n"
     ]
    }
   ],
   "source": [
    "def extrai_linha_txt(nome_arquivo: str, numero_linha: int):\n",
    "\n",
    "\tpalavras_linha = []\n",
    "\n",
    "\twith open(file= f'{nome_arquivo}', mode='r') as fp:\n",
    "\t\tlinha = fp.readlines()\n",
    "\t\tpalavras_linha = linha[numero_linha - 1].split(' ')\n",
    "\t\t\n",
    "\treturn palavras_linha\n",
    "\n",
    "\n",
    "linha10 = extrai_linha_txt(nome_arquivo='chico.txt', numero_linha=10)\n",
    "print(linha10)"
   ]
  }
 ],
 "metadata": {
  "kernelspec": {
   "display_name": "Python 3",
   "language": "python",
   "name": "python3"
  },
  "language_info": {
   "codemirror_mode": {
    "name": "ipython",
    "version": 3
   },
   "file_extension": ".py",
   "mimetype": "text/x-python",
   "name": "python",
   "nbconvert_exporter": "python",
   "pygments_lexer": "ipython3",
   "version": "3.12.3"
  }
 },
 "nbformat": 4,
 "nbformat_minor": 2
}
