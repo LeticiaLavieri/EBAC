{
 "cells": [
  {
   "cell_type": "markdown",
   "metadata": {},
   "source": [
    "<img src=\"https://raw.githubusercontent.com/andre-marcos-perez/ebac-course-utils/main/media/logo/newebac_logo_black_half.png\" alt=\"ebac-logo\">\n",
    "\n",
    "---\n",
    "\n",
    "### **Módulo 03** | Python: Fluxo Condicional & Repetição\n",
    "---\n",
    "\n",
    "### **Tópicos**\n",
    "\n",
    "<ol type=\"1\">\n",
    "  <li>Estrutura condicional if / else / elif;</li>\n",
    "  <li>Estrutura condicional try / catch / finally;</li>\n",
    "  <li>Estrutura de repetição for / in.</li>\n",
    "</ol>"
   ]
  },
  {
   "cell_type": "markdown",
   "metadata": {},
   "source": [
    "#### Lição 1:\n",
    "\n",
    "- Na lista propaganda_online dada no editor ao lado, estão presente os dados de usuários que acessaram um determinado site e se o mesmo clicou em uma propaganda.\n",
    "- Imprima os valores de idade e tempo_gasto_site, utilizando a estrutura \"for / in\". Os valores devem ser impressos na mesma linha, para cada dado da lista."
   ]
  },
  {
   "cell_type": "code",
   "execution_count": 17,
   "metadata": {},
   "outputs": [],
   "source": [
    "propaganda_online = [\n",
    "\t{'tempo_gasto_site': 68.95, 'idade': 35, 'renda_area': 61833.90, 'tempo_gasto_internet': 256.09, 'cidade': 'Wrightburgh', 'pais': 'Tunisia', 'clicou_no_ad': 0},\n",
    "\t{'tempo_gasto_site': 80.23, 'idade': 31, 'renda_area': 68441.85, 'tempo_gasto_internet': 193.77, 'cidade': 'West Jodi', 'pais': 'Nauru', 'clicou_no_ad': 0},\n",
    "\t{'tempo_gasto_site': 69.47, 'idade': 26, 'renda_area': 59785.94, 'tempo_gasto_internet': 236.50, 'cidade': 'Davidton', 'pais': 'San Marino', 'clicou_no_ad': 0},\n",
    "\t{'tempo_gasto_site': 68.37, 'idade': 35, 'renda_area': 73889.99, 'tempo_gasto_internet': 225.58, 'cidade': 'South Manuel', 'pais': 'Iceland', 'clicou_no_ad': 0},\n",
    "\t{'tempo_gasto_site': 88.91, 'idade': 33, 'renda_area': 53852.85, 'tempo_gasto_internet': 208.36, 'cidade': 'Brandonstad', 'pais': 'Myanmar', 'clicou_no_ad': 0},\n",
    "\t{'tempo_gasto_site': None, 'idade': 48, 'renda_area': 24593.33, 'tempo_gasto_internet': 131.76, 'cidade': 'Port Jefferybury', 'pais': 'Australia', 'clicou_no_ad': 1},\n",
    "\t{'tempo_gasto_site': 74.53, 'idade': 30, 'renda_area': 68862.00, 'tempo_gasto_internet': 221.51, 'cidade': 'West Colin', 'pais': 'Grenada'},\n",
    "\t{'tempo_gasto_site': 69.88, 'idade': 20, 'renda_area': 55642.32, 'tempo_gasto_internet': 183.82, 'cidade': 'Ramirezton', 'pais': 'Ghana', 'clicou_no_ad': 0}\n",
    "]"
   ]
  },
  {
   "cell_type": "code",
   "execution_count": 4,
   "metadata": {},
   "outputs": [
    {
     "name": "stdout",
     "output_type": "stream",
     "text": [
      "68.95\n",
      "80.23\n",
      "69.47\n",
      "68.37\n",
      "88.91\n",
      "None\n",
      "74.53\n",
      "69.88\n"
     ]
    }
   ],
   "source": [
    "for info in propaganda_online:\n",
    "  print(info['tempo_gasto_site'])"
   ]
  },
  {
   "cell_type": "code",
   "execution_count": 5,
   "metadata": {},
   "outputs": [
    {
     "name": "stdout",
     "output_type": "stream",
     "text": [
      "35\n",
      "31\n",
      "26\n",
      "35\n",
      "33\n",
      "48\n",
      "30\n",
      "20\n"
     ]
    }
   ],
   "source": [
    "for info in propaganda_online:\n",
    "  print(info['idade'])"
   ]
  },
  {
   "cell_type": "markdown",
   "metadata": {},
   "source": [
    "#### Lição 2:\n",
    "\n",
    "- Utilize a estrutura if/else para imprimir a cidade dos usuários que gastaram mais de 200 horas de tempo na internet."
   ]
  },
  {
   "cell_type": "code",
   "execution_count": 18,
   "metadata": {},
   "outputs": [
    {
     "name": "stdout",
     "output_type": "stream",
     "text": [
      "Wrightburgh\n",
      "Davidton\n",
      "South Manuel\n",
      "Brandonstad\n",
      "West Colin\n"
     ]
    }
   ],
   "source": [
    "for dado_de_usuario in propaganda_online:\n",
    "  if (dado_de_usuario['tempo_gasto_internet']) > 200:\n",
    "    print(dado_de_usuario['cidade'])"
   ]
  },
  {
   "cell_type": "markdown",
   "metadata": {},
   "source": [
    "#### Lição 3:\n",
    "\n",
    "- Utilize a estrutura try/except para imprimir as cidades dos usuários que passaram mais de 70 segundos no site\n",
    "- Realize o tratamento de exceções dentro da execução da iteração dos elementos da lista. \n",
    "- Trate a exceção atribuindo-a à variável error"
   ]
  },
  {
   "cell_type": "code",
   "execution_count": 22,
   "metadata": {},
   "outputs": [
    {
     "name": "stdout",
     "output_type": "stream",
     "text": [
      "West Jodi\n",
      "Brandonstad\n",
      "West Colin\n"
     ]
    }
   ],
   "source": [
    "error = None\n",
    "\n",
    "for dado_de_usuario in propaganda_online:\n",
    "\ttry:\n",
    "\t\tif (dado_de_usuario['tempo_gasto_site']) > 70:\n",
    "\t\t  print(dado_de_usuario['cidade'])\n",
    "\texcept Exception as e:\n",
    "\t\terror = e"
   ]
  }
 ],
 "metadata": {
  "kernelspec": {
   "display_name": "Python 3",
   "language": "python",
   "name": "python3"
  },
  "language_info": {
   "codemirror_mode": {
    "name": "ipython",
    "version": 3
   },
   "file_extension": ".py",
   "mimetype": "text/x-python",
   "name": "python",
   "nbconvert_exporter": "python",
   "pygments_lexer": "ipython3",
   "version": "3.12.3"
  }
 },
 "nbformat": 4,
 "nbformat_minor": 2
}
