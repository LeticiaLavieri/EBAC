{
 "cells": [
  {
   "cell_type": "markdown",
   "metadata": {},
   "source": [
    "<img src=\"https://raw.githubusercontent.com/andre-marcos-perez/ebac-course-utils/main/media/logo/newebac_logo_black_half.png\" alt=\"ebac-logo\">\n",
    "\n",
    "---\n",
    "\n",
    "### **Módulo 06** | Python: Programação Orientada a Objetos\n",
    "---\n",
    "\n",
    "### **Tópicos**\n",
    "\n",
    "<ol type=\"1\">\n",
    "  <li>Classes;</li>\n",
    "  <li>Objetos;</li>\n",
    "  <li>Herança.</li>\n",
    "</ol>"
   ]
  },
  {
   "cell_type": "markdown",
   "metadata": {},
   "source": [
    "Novamente iremos trabalhar com os arquivos carros.csv e chico.txt:\n",
    "\n",
    "Carros.csv\n",
    "\n",
    "id,valor_venda,valor_manutencao,portas,pessoas,porta_malas<br>\n",
    "1,vhigh,med,2,2,small<br>\n",
    "2,med,vhigh,2,2,small<br>\n",
    "3,low,vhigh,2,2,small<br>\n",
    "4,low,high,2,2,small<br>\n",
    "5,low,high,2,2,small<br>\n",
    "6,low,high,4,4,big<br>\n",
    "7,low,high,4,4,big<br>\n",
    "8,low,med,2,2,small<br>\n",
    "9,low,med,2,2,small<br>\n",
    "10,low,med,2,2,small<br>\n",
    "11,low,med,4,4,big<br>\n",
    "12,low,low,2,2,small<br>\n",
    "13,low,low,4,4,small<br>\n",
    "14,low,low,4,4,med<br>\n",
    "\n",
    "Chico.txt<br>\n",
    "\n",
    "Roda Viva<br>\n",
    "Chico Buarque<br>\n",
    "<br>\n",
    "Tem dias que a gente se sente<br>\n",
    "Como quem partiu ou morreu<br>\n",
    "A gente estancou de repente<br>\n",
    "Ou foi o mundo então que cresceu<br>\n",
    "A gente quer ter voz ativa<br>\n",
    "No nosso destino mandar<br>\n",
    "Mas eis que chega a roda viva<br>\n",
    "E carrega o destino pra lá<br>\n",
    "<br>\n",
    "Roda mundo, roda-gigante<br>\n",
    "Roda moinho, roda pião<br>\n",
    "<br>\n",
    "O tempo rodou num instante<br>\n",
    "Nas voltas do meu coração<br>\n",
    "A gente vai contra a corrente<br>\n",
    "Até não poder resistir<br>\n",
    "Na volta do barco é que sente<br>\n",
    "O quanto deixou de cumprir<br>\n",
    "Faz tempo que a gente cultiva<br>\n",
    "A mais linda roseira que há<br>\n",
    "Mas eis que chega a roda viva<br>\n",
    "E carrega a roseira pra lá<br>\n",
    "<br>\n",
    "Roda mundo, roda-gigante<br>\n",
    "Roda moinho, roda pião<br>\n"
   ]
  },
  {
   "cell_type": "markdown",
   "metadata": {},
   "source": [
    "#### Lição 1:\n",
    "\n",
    "- Crie a classe ArquivoTexto. Ela deve conter os seguintes atributos:\n",
    "    - self.arquivo: Atributo do tipo str com o nome do arquivo;\n",
    "    - self.conteudo: Atributo do tipo list onde cada elemento é uma linha do arquivo;\n",
    "- A classe também deve conter o seguinte método:\n",
    "    - self.extrair_conteudo: Método que realiza a leitura do arquivo e retorna o conteúdo.\n",
    "    - self.extrair_linha: Método que recebe como parâmetro o número da linha e retorna a linha do conteúdo. Considere a primeira linha como número 1."
   ]
  },
  {
   "cell_type": "code",
   "execution_count": 3,
   "metadata": {},
   "outputs": [],
   "source": [
    "class ArquivoTexto(object):\n",
    "\tdef __init__(self, arquivo: str):\n",
    "\t\tself.arquivo = arquivo\n",
    "\t\tself.conteudo = self.extrair_conteudo()\n",
    "\t\n",
    "\tdef extrair_conteudo(self):\n",
    "\t\twith open(file= self.arquivo, mode='r', encoding='utf8') as fp:\n",
    "\t\t\tconteudo = fp.readlines()\n",
    "\t\treturn conteudo\n",
    "\t\t\n",
    "\tdef extrair_linha(self, numero_linha: int):\n",
    "\t\treturn self.conteudo[numero_linha-1].strip()\n"
   ]
  },
  {
   "cell_type": "code",
   "execution_count": 4,
   "metadata": {},
   "outputs": [
    {
     "name": "stdout",
     "output_type": "stream",
     "text": [
      "['Roda Viva\\n', 'Chico Buarque\\n', '\\n', 'Tem dias que a gente se sente\\n', 'Como quem partiu ou morreu\\n', 'A gente estancou de repente\\n', 'Ou foi o mundo então que cresceu\\n', 'A gente quer ter voz ativa\\n', 'No nosso destino mandar\\n', 'Mas eis que chega a roda viva\\n', 'E carrega o destino pra lá\\n', '\\n', 'Roda mundo, roda-gigante\\n', 'Roda moinho, roda pião\\n', '\\n', 'O tempo rodou num instante\\n', 'Nas voltas do meu coração\\n', 'A gente vai contra a corrente\\n', 'Até não poder resistir\\n', 'Na volta do barco é que sente\\n', 'O quanto deixou de cumprir\\n', 'Faz tempo que a gente cultiva\\n', 'A mais linda roseira que há\\n', 'Mas eis que chega a roda viva\\n', 'E carrega a roseira pra lá\\n', '\\n', 'Roda mundo, roda-gigante\\n', 'Roda moinho, roda pião\\n', '\\n']\n"
     ]
    }
   ],
   "source": [
    "# Acessando o arquivo:\t\t\n",
    "\n",
    "musica = ArquivoTexto(arquivo='chico.txt')\n",
    "print(musica.conteudo)"
   ]
  },
  {
   "cell_type": "markdown",
   "metadata": {},
   "source": [
    "Utilize o código abaixo para testar sua classe extraindo apenas uma linha\n"
   ]
  },
  {
   "cell_type": "code",
   "execution_count": 5,
   "metadata": {},
   "outputs": [
    {
     "name": "stdout",
     "output_type": "stream",
     "text": [
      "Como quem partiu ou morreu\n"
     ]
    }
   ],
   "source": [
    "arquivo_texto = ArquivoTexto(arquivo='chico.txt')\n",
    "\n",
    "numero_linha = 5\n",
    "print(arquivo_texto.extrair_linha(numero_linha=numero_linha)) # Como quem partiu e morreu\n"
   ]
  },
  {
   "cell_type": "markdown",
   "metadata": {},
   "source": [
    "#### Lição 2:\n",
    "\n",
    "- Crie a classe `ArquivoCSV`. Ela deve extender (herdar) a classe ArquivoTexto para reaproveitar os seus atributos (self.arquivo e self.conteudo). \n",
    "- Além disso, adicione o seguinte atributo:\n",
    "    - self.colunas: Atributo do tipo `list` onde os elementos são os nome das colunas;\n",
    "- A classe também deve conter o seguinte método:\n",
    "    - self.extrair_nome_colunas: Método que retorna o nome das colunas do arquivo.\n",
    "    - extrair_coluna: Método que recebe como parâmetro o indice da coluna e retorna o valor em questão. Considere a primeira coluna como número 1."
   ]
  },
  {
   "cell_type": "code",
   "execution_count": 10,
   "metadata": {},
   "outputs": [],
   "source": [
    "class ArquivoCSV(ArquivoTexto):\n",
    "\tdef __init__(self, arquivo: str):\n",
    "\t\tsuper().__init__(arquivo=arquivo) # Quando precisamos importar parâmetros da classe mãe dentro de um método, usamos o super() para indicar o que queremos importar\n",
    "\t\tself.colunas = self.extrair_cabecalho()\n",
    "\n",
    "\tdef extrair_cabecalho(self):\n",
    "\t\treturn self.conteudo[0].strip().split(sep=',')\n",
    "\n",
    "\tdef extrair_coluna(self, indice_coluna: int):\n",
    "\t\tcoluna = list()\n",
    "\t\tfor linha in self.conteudo:\n",
    "\t\t\tlinha_separada = linha.strip().split(sep=',')\n",
    "\t\t\tcoluna.append(linha_separada[indice_coluna -1])\n",
    "\t\tcoluna.pop(0)\n",
    "\t\treturn coluna\n",
    "\t\n",
    "\tdef extrair_linha_da_coluna(self, numero_linha: int, indice_coluna: int):\n",
    "\t\tnum_linha = self.conteudo[numero_linha]\n",
    "\t\tnum_linha = num_linha.split(sep=',')[indice_coluna -1]\n",
    "\t\treturn num_linha"
   ]
  },
  {
   "cell_type": "code",
   "execution_count": 11,
   "metadata": {},
   "outputs": [
    {
     "name": "stdout",
     "output_type": "stream",
     "text": [
      "['id', 'valor_venda', 'valor_manutencao', 'portas', 'pessoas', 'porta_malas']\n"
     ]
    }
   ],
   "source": [
    "# Extrair_nome_colunas (cabeçalho)\n",
    "\n",
    "arquivo_csv = ArquivoCSV(arquivo='carros.csv')\n",
    "print(arquivo_csv.colunas) # ['id', 'valor_venda', 'valor_manutencao', 'portas', 'pessoas', 'porta_malas']"
   ]
  },
  {
   "cell_type": "code",
   "execution_count": 12,
   "metadata": {},
   "outputs": [
    {
     "name": "stdout",
     "output_type": "stream",
     "text": [
      "9,low,med,2,2,small\n"
     ]
    }
   ],
   "source": [
    "# Extrair linhas:\n",
    "\n",
    "numero_linha = 10\n",
    "print(arquivo_csv.extrair_linha(numero_linha=numero_linha)) # 9,low,med,2,2,small"
   ]
  },
  {
   "cell_type": "code",
   "execution_count": 13,
   "metadata": {},
   "outputs": [
    {
     "name": "stdout",
     "output_type": "stream",
     "text": [
      "['vhigh', 'med', 'low', 'low', 'low', 'low', 'low', 'low', 'low', 'low', 'low', 'low', 'low', 'low']\n"
     ]
    }
   ],
   "source": [
    "# Extrair colunas:\n",
    "\n",
    "numero_coluna = 2\n",
    "print(arquivo_csv.extrair_coluna(indice_coluna=numero_coluna)) # ['vhigh', 'med', 'low', 'low', 'low', 'low', 'low', 'low', 'low', 'low', 'low', 'low', 'low', 'low']\n"
   ]
  },
  {
   "cell_type": "code",
   "execution_count": 14,
   "metadata": {},
   "outputs": [
    {
     "name": "stdout",
     "output_type": "stream",
     "text": [
      "vhigh\n"
     ]
    }
   ],
   "source": [
    "# Extrair linha especifica de uma coluna:\n",
    "\n",
    "numero_linha = 1\n",
    "numero_coluna = 2\n",
    "print(arquivo_csv.extrair_linha_da_coluna(numero_linha=numero_linha, indice_coluna=numero_coluna)) # vhigh\n",
    "     "
   ]
  }
 ],
 "metadata": {
  "kernelspec": {
   "display_name": "Python 3",
   "language": "python",
   "name": "python3"
  },
  "language_info": {
   "codemirror_mode": {
    "name": "ipython",
    "version": 3
   },
   "file_extension": ".py",
   "mimetype": "text/x-python",
   "name": "python",
   "nbconvert_exporter": "python",
   "pygments_lexer": "ipython3",
   "version": "3.12.3"
  }
 },
 "nbformat": 4,
 "nbformat_minor": 2
}
