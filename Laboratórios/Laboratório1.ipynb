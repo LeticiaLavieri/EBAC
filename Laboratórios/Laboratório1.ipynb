{
 "cells": [
  {
   "cell_type": "markdown",
   "metadata": {},
   "source": [
    "<img src=\"https://raw.githubusercontent.com/andre-marcos-perez/ebac-course-utils/main/media/logo/newebac_logo_black_half.png\" alt=\"ebac-logo\">\n",
    "\n",
    "---\n",
    "\n",
    "### **Módulo** | Análise de Dados | Python: Variáveis & Tipos de Dados\n",
    "---"
   ]
  },
  {
   "cell_type": "markdown",
   "metadata": {},
   "source": [
    "#### 1\\. Lição 1:\n",
    "\n",
    "Utilizando a função print(), escreva 'Olá mundo'"
   ]
  },
  {
   "cell_type": "code",
   "execution_count": 1,
   "metadata": {},
   "outputs": [
    {
     "name": "stdout",
     "output_type": "stream",
     "text": [
      "Olá mundo\n"
     ]
    }
   ],
   "source": [
    "print('Olá mundo')"
   ]
  },
  {
   "cell_type": "markdown",
   "metadata": {},
   "source": [
    "---"
   ]
  },
  {
   "cell_type": "markdown",
   "metadata": {},
   "source": [
    "#### 2\\. Lição 2:\n",
    "\n",
    "Use expressões algébricas para calcular<br> \n",
    "A - Valor de venda do dia 19 (ticket/qnt_vendas)<br> \n",
    "B - Quantidade vendida no dia 20 (valor_vendas/ ticket)<br> \n",
    "C - Ticket do dia 23\n"
   ]
  },
  {
   "cell_type": "code",
   "execution_count": 3,
   "metadata": {},
   "outputs": [],
   "source": [
    "# 19/01\n",
    "qtd_total_vendas_1 = 3\n",
    "ticket_medio_1 = 320.52\n",
    "\n",
    "# 20/01\n",
    "valor_total_vendas_2 = 337.01\n",
    "ticket_medio_2 = 119.21\n",
    "\n",
    "# 23/01\n",
    "valor_total_vendas_3 = 295.33\n",
    "qtd_total_vendas_3 = 5"
   ]
  },
  {
   "cell_type": "code",
   "execution_count": 4,
   "metadata": {},
   "outputs": [
    {
     "name": "stdout",
     "output_type": "stream",
     "text": [
      "(A) =  961.56\n",
      "(B) =  2.827027933898163\n",
      "(C) =  59.065999999999995\n"
     ]
    }
   ],
   "source": [
    "# Calcule aqui:\n",
    "A = ticket_medio_1 * qtd_total_vendas_1\n",
    "B = valor_total_vendas_2 / ticket_medio_2\n",
    "C = valor_total_vendas_3 / qtd_total_vendas_3\n",
    "\n",
    "print('(A) = ', A)\n",
    "print('(B) = ', B)\n",
    "print('(C) = ', C)"
   ]
  },
  {
   "cell_type": "markdown",
   "metadata": {},
   "source": [
    "---"
   ]
  },
  {
   "cell_type": "markdown",
   "metadata": {},
   "source": [
    "#### 3\\. Lição 3:\n",
    "\n",
    "Aplicar métodos nas strings<br>\n",
    "\n",
    "Substitua todas as vírgulas por barras /<br>\n",
    "Deixe a string em maiúscula<br>\n",
    "Encontre a posição da palavra \"moinho\" na string<br>\n"
   ]
  },
  {
   "cell_type": "code",
   "execution_count": 6,
   "metadata": {},
   "outputs": [],
   "source": [
    "cancao = 'Roda mundo, roda gigante, roda moinho, roda pião.'"
   ]
  },
  {
   "cell_type": "code",
   "execution_count": 7,
   "metadata": {},
   "outputs": [
    {
     "name": "stdout",
     "output_type": "stream",
     "text": [
      "Roda mundo/ roda gigante/ roda moinho/ roda pião.\n"
     ]
    }
   ],
   "source": [
    "# Substitua todas as vírgulas por barras\n",
    "\n",
    "result1 = cancao.replace(',' , '/')\n",
    "print(result1)"
   ]
  },
  {
   "cell_type": "code",
   "execution_count": 8,
   "metadata": {},
   "outputs": [
    {
     "name": "stdout",
     "output_type": "stream",
     "text": [
      "RODA MUNDO, RODA GIGANTE, RODA MOINHO, RODA PIÃO.\n"
     ]
    }
   ],
   "source": [
    "# Deixe a string em maiúscula\n",
    "\n",
    "result2 = cancao.upper()\n",
    "print(result2)"
   ]
  },
  {
   "cell_type": "code",
   "execution_count": 9,
   "metadata": {},
   "outputs": [
    {
     "name": "stdout",
     "output_type": "stream",
     "text": [
      "31\n"
     ]
    }
   ],
   "source": [
    "# Encontre a posição da palavra \"moinho\" na string\n",
    "\n",
    "result3 = cancao.find('moinho')\n",
    "print(result3)"
   ]
  },
  {
   "cell_type": "markdown",
   "metadata": {},
   "source": [
    "---"
   ]
  },
  {
   "cell_type": "markdown",
   "metadata": {},
   "source": [
    "#### 4\\. Lição 4:\n",
    "\n",
    "Extraia da string abaixo o valor da taxa selic na variável selic e o valor do ano na variável ano. Imprima os valores na tela."
   ]
  },
  {
   "cell_type": "code",
   "execution_count": 12,
   "metadata": {},
   "outputs": [],
   "source": [
    "noticia = 'Selic vai a 2,75% e supera expectativas é a primeira alta em 6 anos.'"
   ]
  },
  {
   "cell_type": "code",
   "execution_count": 13,
   "metadata": {},
   "outputs": [
    {
     "name": "stdout",
     "output_type": "stream",
     "text": [
      "2,75%\n"
     ]
    }
   ],
   "source": [
    "selic = noticia[12:17]\n",
    "print(selic)"
   ]
  },
  {
   "cell_type": "code",
   "execution_count": 14,
   "metadata": {},
   "outputs": [
    {
     "name": "stdout",
     "output_type": "stream",
     "text": [
      "6\n"
     ]
    }
   ],
   "source": [
    "ano = noticia[-7]\n",
    "print(ano)"
   ]
  },
  {
   "cell_type": "markdown",
   "metadata": {},
   "source": [
    "---"
   ]
  },
  {
   "cell_type": "markdown",
   "metadata": {},
   "source": [
    "#### 5\\. Lição 5:\n",
    "\n",
    "Utilizando a tabela da verdade para descobrir o valor da variável x?"
   ]
  },
  {
   "cell_type": "code",
   "execution_count": 15,
   "metadata": {},
   "outputs": [
    {
     "name": "stdout",
     "output_type": "stream",
     "text": [
      "True\n"
     ]
    }
   ],
   "source": [
    "a = False\n",
    "b = True\n",
    "x = not a & b\n",
    "print(x)"
   ]
  }
 ],
 "metadata": {
  "kernelspec": {
   "display_name": "Python 3",
   "language": "python",
   "name": "python3"
  },
  "language_info": {
   "codemirror_mode": {
    "name": "ipython",
    "version": 3
   },
   "file_extension": ".py",
   "mimetype": "text/x-python",
   "name": "python",
   "nbconvert_exporter": "python",
   "pygments_lexer": "ipython3",
   "version": "3.12.3"
  }
 },
 "nbformat": 4,
 "nbformat_minor": 2
}
