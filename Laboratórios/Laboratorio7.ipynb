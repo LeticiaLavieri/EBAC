{
 "cells": [
  {
   "cell_type": "markdown",
   "metadata": {},
   "source": [
    "<img src=\"https://raw.githubusercontent.com/andre-marcos-perez/ebac-course-utils/main/media/logo/newebac_logo_black_half.png\" alt=\"ebac-logo\">\n",
    "\n",
    "---\n",
    "\n",
    "### **Módulo 06** | Python: Tratamento de Erros\n",
    "---\n",
    "\n",
    "### **Tópicos**\n",
    "\n",
    "<ol type=\"1\">\n",
    "  <li>Tipos de erros;</li>\n",
    "  <li>Erros de sintaxe;</li>\n",
    "  <li>Erros em tempo de execução.</li>\n",
    "</ol>"
   ]
  },
  {
   "cell_type": "markdown",
   "metadata": {},
   "source": [
    "Identifique o erro de sintaxe nos trechos de código abaixo e corrija-os para que o trecho de código funcione.\n",
    "\n",
    "Execute o código inicial para ver a mensagem de erro. Altere o mínimo necessário para deixar o código funcionando."
   ]
  },
  {
   "cell_type": "markdown",
   "metadata": {},
   "source": [
    "#### Lição 1:\n",
    "Erros de sintaxe 01: Laços de repetição"
   ]
  },
  {
   "cell_type": "code",
   "execution_count": 1,
   "metadata": {},
   "outputs": [
    {
     "ename": "SyntaxError",
     "evalue": "unterminated f-string literal (detected at line 4) (2738126696.py, line 4)",
     "output_type": "error",
     "traceback": [
      "\u001b[1;36m  Cell \u001b[1;32mIn[1], line 4\u001b[1;36m\u001b[0m\n\u001b[1;33m    print(f'Para o documento {chave}, o valor do escore de crédito é {valor}.\")\u001b[0m\n\u001b[1;37m          ^\u001b[0m\n\u001b[1;31mSyntaxError\u001b[0m\u001b[1;31m:\u001b[0m unterminated f-string literal (detected at line 4)\n"
     ]
    }
   ],
   "source": [
    "credito = {'123': 750, '456': 812, '789': 980}\n",
    "\n",
    "for chave, valor in credito.items():\n",
    "\tprint(f'Para o documento {chave}, o valor do escore de crédito é {valor}.\")"
   ]
  },
  {
   "cell_type": "code",
   "execution_count": 2,
   "metadata": {},
   "outputs": [
    {
     "name": "stdout",
     "output_type": "stream",
     "text": [
      "Para o documento 123, o valor do escore de crédito é 750.\n",
      "Para o documento 456, o valor do escore de crédito é 812.\n",
      "Para o documento 789, o valor do escore de crédito é 980.\n"
     ]
    }
   ],
   "source": [
    "credito = {'123': 750, '456': 812, '789': 980}\n",
    "\n",
    "for chave, valor in credito.items():\n",
    "\tprint(f'Para o documento {chave}, o valor do escore de crédito é {valor}.')\n"
   ]
  },
  {
   "cell_type": "markdown",
   "metadata": {},
   "source": [
    "#### Lição 2:\n",
    "Erros de sintaxe 02: Funções"
   ]
  },
  {
   "cell_type": "code",
   "execution_count": 3,
   "metadata": {},
   "outputs": [
    {
     "ename": "SyntaxError",
     "evalue": "expected ':' (2771979206.py, line 1)",
     "output_type": "error",
     "traceback": [
      "\u001b[1;36m  Cell \u001b[1;32mIn[3], line 1\u001b[1;36m\u001b[0m\n\u001b[1;33m    def pi_func() --> float:\u001b[0m\n\u001b[1;37m                  ^\u001b[0m\n\u001b[1;31mSyntaxError\u001b[0m\u001b[1;31m:\u001b[0m expected ':'\n"
     ]
    }
   ],
   "source": [
    "def pi_func() --> float:\n",
    "    return 3.14159265359\n",
    "\n",
    "pi_var = pi_func()\n",
    "print(pi_var)"
   ]
  },
  {
   "cell_type": "code",
   "execution_count": 4,
   "metadata": {},
   "outputs": [
    {
     "name": "stdout",
     "output_type": "stream",
     "text": [
      "3.14159265359\n"
     ]
    }
   ],
   "source": [
    "def pi_func() -> float:\n",
    "    return 3.14159265359\n",
    "\n",
    "pi_var = pi_func()\n",
    "print(pi_var)"
   ]
  },
  {
   "cell_type": "markdown",
   "metadata": {},
   "source": [
    "#### Lição 3:\n",
    "Erros de sintaxe 03: Programação Funcional"
   ]
  },
  {
   "cell_type": "code",
   "execution_count": 6,
   "metadata": {},
   "outputs": [
    {
     "ename": "SyntaxError",
     "evalue": "unterminated string literal (detected at line 2) (2307704731.py, line 2)",
     "output_type": "error",
     "traceback": [
      "\u001b[1;36m  Cell \u001b[1;32mIn[6], line 2\u001b[1;36m\u001b[0m\n\u001b[1;33m    provedor_da_google = lambda email: 'gmail in email\u001b[0m\n\u001b[1;37m                                       ^\u001b[0m\n\u001b[1;31mSyntaxError\u001b[0m\u001b[1;31m:\u001b[0m unterminated string literal (detected at line 2)\n"
     ]
    }
   ],
   "source": [
    "emails = ['andre.perez@gmail.com', 'andre.perez@live.com', 'andre.perez@yahoo.com']\n",
    "provedor_da_google = lambda email: 'gmail in email\n",
    "\n",
    "emails_google = filter(provedor_da_google, emails)\n",
    "print(list(emails_google))"
   ]
  },
  {
   "cell_type": "code",
   "execution_count": 5,
   "metadata": {},
   "outputs": [
    {
     "name": "stdout",
     "output_type": "stream",
     "text": [
      "['andre.perez@gmail.com']\n"
     ]
    }
   ],
   "source": [
    "emails = ['andre.perez@gmail.com', 'andre.perez@live.com', 'andre.perez@yahoo.com']\n",
    "provedor_da_google = lambda email: 'gmail' in email\n",
    "\n",
    "emails_google = filter(provedor_da_google, emails)\n",
    "print(list(emails_google))"
   ]
  },
  {
   "cell_type": "markdown",
   "metadata": {},
   "source": [
    "#### Lição 4:\n",
    "Erros de sintaxe 04: Programação orientada a objetos"
   ]
  },
  {
   "cell_type": "code",
   "execution_count": 10,
   "metadata": {},
   "outputs": [
    {
     "ename": "TabError",
     "evalue": "inconsistent use of tabs and spaces in indentation (<string>, line 4)",
     "output_type": "error",
     "traceback": [
      "\u001b[1;36m  File \u001b[1;32m<string>:4\u001b[1;36m\u001b[0m\n\u001b[1;33m    self.idade = idade\u001b[0m\n\u001b[1;37m                      ^\u001b[0m\n\u001b[1;31mTabError\u001b[0m\u001b[1;31m:\u001b[0m inconsistent use of tabs and spaces in indentation\n"
     ]
    }
   ],
   "source": [
    "class Pessoa(object):\n",
    "\tdef __init__(self nome: str, idade: int, documento: str):\n",
    "\t    self.nome = nome\n",
    "\t\tself.idade = idade\n",
    "\t\tself.documento = documento\n",
    "\n",
    "andre = Pessoa(nome=\"Andre\", idade=30, document=\"123\")"
   ]
  },
  {
   "cell_type": "code",
   "execution_count": 11,
   "metadata": {},
   "outputs": [],
   "source": [
    "class Pessoa(object):\n",
    "\tdef __init__(self, nome: str, idade: int, documento: str):\n",
    "\t\tself.nome = nome\n",
    "\t\tself.idade = idade\n",
    "\t\tself.documento = documento\n",
    "\n",
    "andre = Pessoa(nome=\"Andre\", idade=30, documento=\"123\")"
   ]
  },
  {
   "cell_type": "markdown",
   "metadata": {},
   "source": [
    "#### Lição 4:\n",
    "O código abaixo deve calcular o total emprestado por cada vendedor mas está \"estourando\" a exceção ValueError devido a um erro no conjunto de dados. Utilize a estrutura try-except para garantir que o código seja executado com sucesso.\n",
    "- Identique o bloco que código que pode gerar a exceção e utilize try e except de modo que a operação que pode causar o problema seja colocada dentro do bloco try, e o código que trata a exceção seja escrito dentro do bloco except.\n",
    "- Trate a Exception e armazene em uma variável chamada error.\n",
    "- Dentro do except, utilize o método replace() para remover as aspas do conjunto de dados linha_elementos[1].\n",
    "\n",
    "Obs: Através do replace() para remover um caractere, o método vai substituir cada caractere por vazio."
   ]
  },
  {
   "cell_type": "code",
   "execution_count": 10,
   "metadata": {},
   "outputs": [
    {
     "name": "stdout",
     "output_type": "stream",
     "text": [
      "{'104271': 448.0}\n",
      "{'21476': 2480.1000000000004}\n",
      "{'87440': 940.8000000000001}\n",
      "{'15980': -48048.0}\n",
      "{'215906': 11060.0}\n",
      "{'33696': 5542.6}\n",
      "{'33893': 6720.0}\n",
      "{'214946': -74718.0}\n",
      "{'123974': 4043.9}\n",
      "{'225870': 8078.0}\n"
     ]
    }
   ],
   "source": [
    "def valor_total_emprestimo(valor: float, quantidade: int) -> float:\n",
    "\treturn valor * quantidade\n",
    "\n",
    "emprestimos = []\n",
    "\n",
    "with open(file='credito.csv.csv', mode='r', encoding='utf8') as fp:\n",
    "\tfp.readline() # cabeçalho\n",
    "\tlinha = fp.readline()\n",
    "\twhile linha:\n",
    "\t\tlinha_emprestimo = {}\n",
    "\t\tlinha_elementos = linha.split(sep=',')\n",
    "\t\tlinha_elementos[1] = linha_elementos[1].replace('\"', '')\n",
    "\t\tlinha_emprestimo['id_vendedor'] = linha_elementos[0]\n",
    "\t\tlinha_emprestimo['valor_emprestimos'] = float(linha_elementos[1])\n",
    "\t\tlinha_emprestimo['quantidade_emprestimos'] = int(linha_elementos[2])\n",
    "\t\tlinha_emprestimo['data'] = linha_elementos[3]\n",
    "\t\temprestimos.append(linha_emprestimo)\n",
    "\t\tlinha = fp.readline()\n",
    "\n",
    "emprestimos_total = []\n",
    "for emprestimo in emprestimos:\n",
    "\tvalor_total = valor_total_emprestimo(valor=emprestimo['valor_emprestimos'], quantidade=emprestimo['quantidade_emprestimos'])\n",
    "\temprestimos_total.append({emprestimo['id_vendedor']: valor_total})\n",
    "\n",
    "for emprestimo_total in emprestimos_total:\n",
    "\tprint(emprestimo_total)"
   ]
  }
 ],
 "metadata": {
  "kernelspec": {
   "display_name": "Python 3",
   "language": "python",
   "name": "python3"
  },
  "language_info": {
   "codemirror_mode": {
    "name": "ipython",
    "version": 3
   },
   "file_extension": ".py",
   "mimetype": "text/x-python",
   "name": "python",
   "nbconvert_exporter": "python",
   "pygments_lexer": "ipython3",
   "version": "3.12.3"
  }
 },
 "nbformat": 4,
 "nbformat_minor": 2
}
