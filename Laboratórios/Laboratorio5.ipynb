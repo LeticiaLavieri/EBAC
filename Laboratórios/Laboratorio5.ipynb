{
 "cells": [
  {
   "cell_type": "markdown",
   "metadata": {},
   "source": [
    "<img src=\"https://raw.githubusercontent.com/andre-marcos-perez/ebac-course-utils/main/media/logo/newebac_logo_black_half.png\" alt=\"ebac-logo\">\n",
    "\n",
    "---\n",
    "\n",
    "### **Módulo 05** | Python: Programação Funcional\n",
    "---\n",
    "\n",
    "### **Tópicos**\n",
    "\n",
    "<ol type=\"1\">\n",
    "  <li>Função lambda;</li>\n",
    "  <li>Função map;</li>\n",
    "  <li>Função filter;</li>\n",
    "  <li>Função reduce.</li>\n",
    "</ol>"
   ]
  },
  {
   "cell_type": "markdown",
   "metadata": {},
   "source": [
    "#### Lista empréstimos:\n",
    "\n",
    "id_vendedor,valor_emprestimos,quantidade_emprestimos,data<br>\n",
    "104271,448.0,1,20161208<br>\n",
    "21476,826.7,3,20161208<br>\n",
    "87440,313.6,3,20161208<br>\n",
    "15980,-8008.0,6,20161208<br>\n",
    "215906,2212.0,5,20161208<br>\n",
    "33696,2771.3,2,20161208<br>\n",
    "33893,2240.0,3,20161208<br>\n",
    "214946,-4151.0,18,20161208<br>\n",
    "123974,2021.95,2,20161208<br>\n",
    "225870,4039.0,2,20161208<br>\n",
    "\n"
   ]
  },
  {
   "cell_type": "markdown",
   "metadata": {},
   "source": [
    "#### Lição 1:\n",
    "\n",
    "- Aplique a função map na lista de emprestimos para extrair os valores da chave valor_emprestimos na variável valor_emprestimos_map.\n",
    "- Ainda na função map, faça também a conversão de str para float.\n",
    "- Tranforme valor_emprestimos_map em lista e armazene na variável valor_emprestimos_lista.\n",
    "- Imprima a variável valor_emprestimos_lista."
   ]
  },
  {
   "cell_type": "code",
   "execution_count": 6,
   "metadata": {},
   "outputs": [
    {
     "name": "stdout",
     "output_type": "stream",
     "text": [
      "[448.0, 826.7, 313.6, -8008.0, 2212.0, 2771.3, 2240.0, -4151.0, 2021.95, 4039.0]\n"
     ]
    }
   ],
   "source": [
    "emprestimos = []\n",
    "with open(file='credito.csv', mode='r', encoding='utf8') as fp:\n",
    "\tfp.readline() # cabeçalho\n",
    "\tlinha = fp.readline()\n",
    "\twhile linha:\n",
    "\t\tif not linha.strip():\n",
    "\t\t\tbreak\n",
    "\t\tlinha_emprestimo = {}\n",
    "\t\tlinha_elementos = linha.strip().split(sep=',')\n",
    "\t\tlinha_emprestimo['id_vendedor'] = linha_elementos[0]\n",
    "\t\tlinha_emprestimo['valor_emprestimos'] = linha_elementos[1]\n",
    "\t\tlinha_emprestimo['quantidade_emprestimos'] = linha_elementos[2]\n",
    "\t\tlinha_emprestimo['data'] = linha_elementos[3]\n",
    "\t\temprestimos.append(linha_emprestimo)\n",
    "\t\tlinha = fp.readline()\n",
    "\n",
    "valor_emprestimos_map = map(lambda valor : float(valor['valor_emprestimos']), emprestimos)\n",
    "valor_emprestimos_lista = list(valor_emprestimos_map)\n",
    "print(valor_emprestimos_lista)"
   ]
  },
  {
   "cell_type": "markdown",
   "metadata": {},
   "source": [
    "#### Lição 2:\n",
    "\n",
    "- Aplique a função filter  para filtrar apenas os valores maiores que zero (os valores negativas são erros na base de dados).\n",
    "- Transforme o resultado numa lista e armazene em valor_emprestimos_filtrado_lista.\n",
    "- Imprima a variável valor_emprestimos_filtrado_lista."
   ]
  },
  {
   "cell_type": "code",
   "execution_count": 14,
   "metadata": {},
   "outputs": [
    {
     "name": "stdout",
     "output_type": "stream",
     "text": [
      "[448.0, 826.7, 313.6, 2212.0, 2771.3, 2240.0, 2021.95, 4039.0]\n"
     ]
    }
   ],
   "source": [
    "valor_emprestimos_lista = list(map(lambda x: float(x['valor_emprestimos']), emprestimos))\n",
    "\n",
    "valor_emprestimos_filtrado = filter(lambda x: x >=0, valor_emprestimos_lista)\n",
    "\n",
    "valor_emprestimos_filtrado_lista = list(valor_emprestimos_filtrado)\n",
    "\n",
    "print(valor_emprestimos_filtrado_lista)"
   ]
  },
  {
   "cell_type": "markdown",
   "metadata": {},
   "source": [
    "#### Lição 3:\n",
    "\n",
    "- Aplique função reduce para extrair a média aritimética dos elementos da lista valor_emprestimos_lista_filtrado e armazene na variavel media_valor_emprestimos."
   ]
  },
  {
   "cell_type": "code",
   "execution_count": 16,
   "metadata": {},
   "outputs": [
    {
     "name": "stdout",
     "output_type": "stream",
     "text": [
      "1859.0687500000001\n"
     ]
    }
   ],
   "source": [
    "from functools import reduce\n",
    "\n",
    "\n",
    "valor_emprestimos_lista = list(map(lambda x: float(x['valor_emprestimos']), emprestimos))\n",
    "valor_emprestimos_filtrado = list(filter(lambda x: x > 0, valor_emprestimos_lista))\n",
    "\n",
    "\n",
    "media_valor_emprestimos = reduce(lambda x, y: x + y, valor_emprestimos_filtrado) / len(valor_emprestimos_filtrado)\n",
    "\n",
    "print(media_valor_emprestimos)"
   ]
  },
  {
   "cell_type": "markdown",
   "metadata": {},
   "source": [
    "#### Lição 4:\n",
    "\n",
    "Neste exercício você deverá aplicar uma combinação de funções para calcular o desvio padrão amostral da coluna valor_emprestimos."
   ]
  },
  {
   "cell_type": "code",
   "execution_count": 18,
   "metadata": {},
   "outputs": [
    {
     "name": "stdout",
     "output_type": "stream",
     "text": [
      "1271.9972711497849\n"
     ]
    }
   ],
   "source": [
    "quadrado_diferencas = (map(lambda x : (x - media_valor_emprestimos) ** 2, valor_emprestimos_filtrado))\n",
    "soma_quadrado_diferencas = reduce(lambda x , y: x + y, quadrado_diferencas)\n",
    "correcao_bessel = soma_quadrado_diferencas / (len(valor_emprestimos_filtrado) - 1)\n",
    "desvio_padrao_emprestimos = correcao_bessel ** (1/2)\n",
    "\n",
    "print(desvio_padrao_emprestimos)"
   ]
  }
 ],
 "metadata": {
  "kernelspec": {
   "display_name": "Python 3",
   "language": "python",
   "name": "python3"
  },
  "language_info": {
   "codemirror_mode": {
    "name": "ipython",
    "version": 3
   },
   "file_extension": ".py",
   "mimetype": "text/x-python",
   "name": "python",
   "nbconvert_exporter": "python",
   "pygments_lexer": "ipython3",
   "version": "3.12.3"
  }
 },
 "nbformat": 4,
 "nbformat_minor": 2
}
